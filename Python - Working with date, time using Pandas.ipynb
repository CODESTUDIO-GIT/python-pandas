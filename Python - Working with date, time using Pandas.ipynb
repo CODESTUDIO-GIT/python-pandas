{
 "cells": [
  {
   "cell_type": "markdown",
   "metadata": {},
   "source": [
    "**Converting Strings to DateTime Using to_datetime()**"
   ]
  },
  {
   "cell_type": "code",
   "execution_count": 1,
   "metadata": {},
   "outputs": [],
   "source": [
    "import pandas as pd"
   ]
  },
  {
   "cell_type": "code",
   "execution_count": 2,
   "metadata": {},
   "outputs": [
    {
     "name": "stdout",
     "output_type": "stream",
     "text": [
      "DatetimeIndex(['2025-01-01', '2025-01-15', '2025-02-01'], dtype='datetime64[ns]', freq=None)\n"
     ]
    }
   ],
   "source": [
    "# Example: Converting a list of date strings\n",
    "date_strings = ['2025-01-01', '2025-01-15', '2025-02-01']\n",
    "date_objects = pd.to_datetime(date_strings)\n",
    "print(date_objects)"
   ]
  },
  {
   "cell_type": "code",
   "execution_count": 3,
   "metadata": {},
   "outputs": [],
   "source": [
    "date_objects = pd.to_datetime(date_strings, format='%Y-%m-%d')"
   ]
  },
  {
   "cell_type": "code",
   "execution_count": 4,
   "metadata": {},
   "outputs": [
    {
     "name": "stdout",
     "output_type": "stream",
     "text": [
      "DatetimeIndex(['2025-01-01', '2025-01-15', '2025-02-01'], dtype='datetime64[ns]', freq=None)\n"
     ]
    }
   ],
   "source": [
    "print(date_objects)"
   ]
  },
  {
   "cell_type": "markdown",
   "metadata": {},
   "source": [
    "**Creating Date Ranges Using date_range()**"
   ]
  },
  {
   "cell_type": "code",
   "execution_count": 7,
   "metadata": {},
   "outputs": [
    {
     "name": "stdout",
     "output_type": "stream",
     "text": [
      "DatetimeIndex(['2025-01-01', '2025-01-02', '2025-01-03', '2025-01-04',\n",
      "               '2025-01-05', '2025-01-06', '2025-01-07', '2025-01-08',\n",
      "               '2025-01-09', '2025-01-10'],\n",
      "              dtype='datetime64[ns]', freq='D')\n"
     ]
    }
   ],
   "source": [
    "# Generating a range of daily dates\n",
    "date_range = pd.date_range(start='2025-01-01', end='2025-01-10')\n",
    "print(date_range)"
   ]
  },
  {
   "cell_type": "code",
   "execution_count": 8,
   "metadata": {},
   "outputs": [
    {
     "name": "stdout",
     "output_type": "stream",
     "text": [
      "DatetimeIndex(['2025-01-31', '2025-02-28', '2025-03-31', '2025-04-30',\n",
      "               '2025-05-31'],\n",
      "              dtype='datetime64[ns]', freq='M')\n"
     ]
    }
   ],
   "source": [
    "# Generating a range of monthly dates\n",
    "monthly_range = pd.date_range(start='2025-01-01', periods=5, freq='M')\n",
    "print(monthly_range)"
   ]
  },
  {
   "cell_type": "markdown",
   "metadata": {},
   "source": [
    "**Extracting and Manipulating Date Components**"
   ]
  },
  {
   "cell_type": "code",
   "execution_count": 10,
   "metadata": {},
   "outputs": [
    {
     "name": "stdout",
     "output_type": "stream",
     "text": [
      "        Date  Year  Month  Day  DayOfWeek\n",
      "0 2025-01-01  2025      1    1  Wednesday\n",
      "1 2025-01-02  2025      1    2   Thursday\n",
      "2 2025-01-03  2025      1    3     Friday\n",
      "3 2025-01-04  2025      1    4   Saturday\n",
      "4 2025-01-05  2025      1    5     Sunday\n",
      "5 2025-01-06  2025      1    6     Monday\n",
      "6 2025-01-07  2025      1    7    Tuesday\n",
      "7 2025-01-08  2025      1    8  Wednesday\n",
      "8 2025-01-09  2025      1    9   Thursday\n",
      "9 2025-01-10  2025      1   10     Friday\n"
     ]
    }
   ],
   "source": [
    "df = pd.DataFrame({'Date': date_range})\n",
    "df['Year'] = df['Date'].dt.year\n",
    "df['Month'] = df['Date'].dt.month\n",
    "df['Day'] = df['Date'].dt.day\n",
    "df['DayOfWeek'] = df['Date'].dt.day_name()\n",
    "print(df)"
   ]
  },
  {
   "cell_type": "markdown",
   "metadata": {},
   "source": [
    "**Handling Timezones**"
   ]
  },
  {
   "cell_type": "code",
   "execution_count": 12,
   "metadata": {},
   "outputs": [
    {
     "name": "stdout",
     "output_type": "stream",
     "text": [
      "        Date  Year  Month  Day  DayOfWeek                   Date_TZ\n",
      "0 2025-01-01  2025      1    1  Wednesday 2025-01-01 00:00:00+05:30\n",
      "1 2025-01-02  2025      1    2   Thursday 2025-01-02 00:00:00+05:30\n",
      "2 2025-01-03  2025      1    3     Friday 2025-01-03 00:00:00+05:30\n",
      "3 2025-01-04  2025      1    4   Saturday 2025-01-04 00:00:00+05:30\n",
      "4 2025-01-05  2025      1    5     Sunday 2025-01-05 00:00:00+05:30\n",
      "5 2025-01-06  2025      1    6     Monday 2025-01-06 00:00:00+05:30\n",
      "6 2025-01-07  2025      1    7    Tuesday 2025-01-07 00:00:00+05:30\n",
      "7 2025-01-08  2025      1    8  Wednesday 2025-01-08 00:00:00+05:30\n",
      "8 2025-01-09  2025      1    9   Thursday 2025-01-09 00:00:00+05:30\n",
      "9 2025-01-10  2025      1   10     Friday 2025-01-10 00:00:00+05:30\n"
     ]
    }
   ],
   "source": [
    "# Localizing to a specific timezone\n",
    "df['Date_TZ'] = df['Date'].dt.tz_localize('Asia/Kolkata')\n",
    "print(df)"
   ]
  },
  {
   "cell_type": "code",
   "execution_count": 13,
   "metadata": {},
   "outputs": [
    {
     "name": "stdout",
     "output_type": "stream",
     "text": [
      "        Date  Year  Month  Day  DayOfWeek                   Date_TZ  \\\n",
      "0 2025-01-01  2025      1    1  Wednesday 2025-01-01 00:00:00+05:30   \n",
      "1 2025-01-02  2025      1    2   Thursday 2025-01-02 00:00:00+05:30   \n",
      "2 2025-01-03  2025      1    3     Friday 2025-01-03 00:00:00+05:30   \n",
      "3 2025-01-04  2025      1    4   Saturday 2025-01-04 00:00:00+05:30   \n",
      "4 2025-01-05  2025      1    5     Sunday 2025-01-05 00:00:00+05:30   \n",
      "5 2025-01-06  2025      1    6     Monday 2025-01-06 00:00:00+05:30   \n",
      "6 2025-01-07  2025      1    7    Tuesday 2025-01-07 00:00:00+05:30   \n",
      "7 2025-01-08  2025      1    8  Wednesday 2025-01-08 00:00:00+05:30   \n",
      "8 2025-01-09  2025      1    9   Thursday 2025-01-09 00:00:00+05:30   \n",
      "9 2025-01-10  2025      1   10     Friday 2025-01-10 00:00:00+05:30   \n",
      "\n",
      "                   Date_UTC  \n",
      "0 2024-12-31 18:30:00+00:00  \n",
      "1 2025-01-01 18:30:00+00:00  \n",
      "2 2025-01-02 18:30:00+00:00  \n",
      "3 2025-01-03 18:30:00+00:00  \n",
      "4 2025-01-04 18:30:00+00:00  \n",
      "5 2025-01-05 18:30:00+00:00  \n",
      "6 2025-01-06 18:30:00+00:00  \n",
      "7 2025-01-07 18:30:00+00:00  \n",
      "8 2025-01-08 18:30:00+00:00  \n",
      "9 2025-01-09 18:30:00+00:00  \n"
     ]
    }
   ],
   "source": [
    "# Converting to another timezone\n",
    "df['Date_UTC'] = df['Date_TZ'].dt.tz_convert('UTC')\n",
    "print(df)"
   ]
  }
 ],
 "metadata": {
  "kernelspec": {
   "display_name": "Python 3",
   "language": "python",
   "name": "python3"
  },
  "language_info": {
   "codemirror_mode": {
    "name": "ipython",
    "version": 3
   },
   "file_extension": ".py",
   "mimetype": "text/x-python",
   "name": "python",
   "nbconvert_exporter": "python",
   "pygments_lexer": "ipython3",
   "version": "3.8.5"
  }
 },
 "nbformat": 4,
 "nbformat_minor": 4
}
